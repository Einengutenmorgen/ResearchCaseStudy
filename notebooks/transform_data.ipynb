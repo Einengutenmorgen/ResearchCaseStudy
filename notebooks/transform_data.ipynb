{
 "cells": [
  {
   "cell_type": "code",
   "execution_count": 1,
   "metadata": {},
   "outputs": [
    {
     "data": {
      "text/html": [
       "<div>\n",
       "<style scoped>\n",
       "    .dataframe tbody tr th:only-of-type {\n",
       "        vertical-align: middle;\n",
       "    }\n",
       "\n",
       "    .dataframe tbody tr th {\n",
       "        vertical-align: top;\n",
       "    }\n",
       "\n",
       "    .dataframe thead th {\n",
       "        text-align: right;\n",
       "    }\n",
       "</style>\n",
       "<table border=\"1\" class=\"dataframe\">\n",
       "  <thead>\n",
       "    <tr style=\"text-align: right;\">\n",
       "      <th></th>\n",
       "      <th>full_text</th>\n",
       "      <th>tweet_id</th>\n",
       "      <th>created_at</th>\n",
       "      <th>screen_name</th>\n",
       "      <th>original_user_id</th>\n",
       "      <th>retweeted_user_ID</th>\n",
       "      <th>collected_at</th>\n",
       "      <th>reply_to_id</th>\n",
       "      <th>reply_to_user</th>\n",
       "      <th>expandedURL</th>\n",
       "    </tr>\n",
       "  </thead>\n",
       "  <tbody>\n",
       "    <tr>\n",
       "      <th>0</th>\n",
       "      <td>Have a great day Tweeps.. \\nPeace &amp;amp; Love, ...</td>\n",
       "      <td>1.676174e+18</td>\n",
       "      <td>2023-07-04 10:19:11+00:00</td>\n",
       "      <td>BellenyFufu</td>\n",
       "      <td>254185636.0</td>\n",
       "      <td>NaN</td>\n",
       "      <td>2023-08-13 13:32:00.832978</td>\n",
       "      <td>NaN</td>\n",
       "      <td>NaN</td>\n",
       "      <td>[]</td>\n",
       "    </tr>\n",
       "    <tr>\n",
       "      <th>1</th>\n",
       "      <td>Touching &amp;amp; Inspiring. \\n\\nThis isn't just ...</td>\n",
       "      <td>1.667404e+18</td>\n",
       "      <td>2023-06-10 05:30:18+00:00</td>\n",
       "      <td>BellenyFufu</td>\n",
       "      <td>254185636.0</td>\n",
       "      <td>NaN</td>\n",
       "      <td>2023-08-13 13:32:00.832997</td>\n",
       "      <td>NaN</td>\n",
       "      <td>NaN</td>\n",
       "      <td>[{'url': 'https://t.co/xPkuLPXZUu', 'expanded_...</td>\n",
       "    </tr>\n",
       "    <tr>\n",
       "      <th>2</th>\n",
       "      <td>Follow the value, not the person.</td>\n",
       "      <td>1.664478e+18</td>\n",
       "      <td>2023-06-02 03:45:27+00:00</td>\n",
       "      <td>BellenyFufu</td>\n",
       "      <td>254185636.0</td>\n",
       "      <td>NaN</td>\n",
       "      <td>2023-08-13 13:32:00.833006</td>\n",
       "      <td>NaN</td>\n",
       "      <td>NaN</td>\n",
       "      <td>[]</td>\n",
       "    </tr>\n",
       "    <tr>\n",
       "      <th>3</th>\n",
       "      <td>Now, war is like a hobby, people enjoy killing...</td>\n",
       "      <td>1.661788e+18</td>\n",
       "      <td>2023-05-25 17:34:17+00:00</td>\n",
       "      <td>BellenyFufu</td>\n",
       "      <td>254185636.0</td>\n",
       "      <td>NaN</td>\n",
       "      <td>2023-08-13 13:32:00.833013</td>\n",
       "      <td>NaN</td>\n",
       "      <td>NaN</td>\n",
       "      <td>[]</td>\n",
       "    </tr>\n",
       "    <tr>\n",
       "      <th>4</th>\n",
       "      <td>Have a great day Tweeps.. \\nStay safe, stay he...</td>\n",
       "      <td>1.650037e+18</td>\n",
       "      <td>2023-04-23 07:20:57+00:00</td>\n",
       "      <td>BellenyFufu</td>\n",
       "      <td>254185636.0</td>\n",
       "      <td>NaN</td>\n",
       "      <td>2023-08-13 13:32:00.833020</td>\n",
       "      <td>NaN</td>\n",
       "      <td>NaN</td>\n",
       "      <td>[]</td>\n",
       "    </tr>\n",
       "  </tbody>\n",
       "</table>\n",
       "</div>"
      ],
      "text/plain": [
       "                                           full_text      tweet_id  \\\n",
       "0  Have a great day Tweeps.. \\nPeace &amp; Love, ...  1.676174e+18   \n",
       "1  Touching &amp; Inspiring. \\n\\nThis isn't just ...  1.667404e+18   \n",
       "2                  Follow the value, not the person.  1.664478e+18   \n",
       "3  Now, war is like a hobby, people enjoy killing...  1.661788e+18   \n",
       "4  Have a great day Tweeps.. \\nStay safe, stay he...  1.650037e+18   \n",
       "\n",
       "                  created_at  screen_name  original_user_id  \\\n",
       "0  2023-07-04 10:19:11+00:00  BellenyFufu       254185636.0   \n",
       "1  2023-06-10 05:30:18+00:00  BellenyFufu       254185636.0   \n",
       "2  2023-06-02 03:45:27+00:00  BellenyFufu       254185636.0   \n",
       "3  2023-05-25 17:34:17+00:00  BellenyFufu       254185636.0   \n",
       "4  2023-04-23 07:20:57+00:00  BellenyFufu       254185636.0   \n",
       "\n",
       "   retweeted_user_ID                collected_at  reply_to_id  reply_to_user  \\\n",
       "0                NaN  2023-08-13 13:32:00.832978          NaN            NaN   \n",
       "1                NaN  2023-08-13 13:32:00.832997          NaN            NaN   \n",
       "2                NaN  2023-08-13 13:32:00.833006          NaN            NaN   \n",
       "3                NaN  2023-08-13 13:32:00.833013          NaN            NaN   \n",
       "4                NaN  2023-08-13 13:32:00.833020          NaN            NaN   \n",
       "\n",
       "                                         expandedURL  \n",
       "0                                                 []  \n",
       "1  [{'url': 'https://t.co/xPkuLPXZUu', 'expanded_...  \n",
       "2                                                 []  \n",
       "3                                                 []  \n",
       "4                                                 []  "
      ]
     },
     "execution_count": 1,
     "metadata": {},
     "output_type": "execute_result"
    }
   ],
   "source": [
    "import pandas as pd\n",
    "\n",
    "full_data_path = '/Users/mogen/Desktop/Research/data/Kopie von FolloweeIDs2_tweets_df_AugustPull.csv'\n",
    "test_data_path = '/Users/mogen/Desktop/Research/data/df_test_10k.csv'\n",
    "\n",
    "df = pd.read_csv(test_data_path)\n",
    "\n",
    "df.head()"
   ]
  },
  {
   "cell_type": "code",
   "execution_count": 10,
   "metadata": {},
   "outputs": [
    {
     "data": {
      "text/plain": [
       "Index(['full_text', 'tweet_id', 'created_at', 'screen_name',\n",
       "       'original_user_id', 'retweeted_user_ID', 'collected_at', 'reply_to_id',\n",
       "       'reply_to_user', 'expandedURL'],\n",
       "      dtype='object')"
      ]
     },
     "execution_count": 10,
     "metadata": {},
     "output_type": "execute_result"
    }
   ],
   "source": [
    "df.columns"
   ]
  },
  {
   "cell_type": "code",
   "execution_count": 2,
   "metadata": {},
   "outputs": [
    {
     "name": "stdout",
     "output_type": "stream",
     "text": [
      "Found 4376 posts and 5624 replies\n"
     ]
    }
   ],
   "source": [
    "posts_df = df[(df['reply_to_id'].isna()) & (df['reply_to_user'].isna())].copy()\n",
    "replies_df = df[~((df['reply_to_id'].isna()) & (df['reply_to_user'].isna()))].copy()\n",
    "\n",
    "\n",
    "print(f'Found {len(posts_df)} posts and {len(replies_df)} replies')"
   ]
  },
  {
   "cell_type": "code",
   "execution_count": 2,
   "metadata": {},
   "outputs": [],
   "source": [
    "import sys\n",
    "sys.path.append('/Users/mogen/Desktop/Research/src')\n",
    "from utils.conversation_extractor import ConversationExtractor"
   ]
  },
  {
   "cell_type": "code",
   "execution_count": 3,
   "metadata": {},
   "outputs": [
    {
     "name": "stdout",
     "output_type": "stream",
     "text": [
      "Processing chunk 1\n",
      "Processing chunk with 10000 rows\n",
      "Current graph size: 10826 nodes, 5614 edges\n",
      "\n",
      "Dataset Processing Summary:\n",
      "Total tweets stored: 10000\n",
      "Total replies mapped: 5614\n",
      "Number of root tweets: 5212\n",
      "\n",
      "Graph Statistics:\n",
      "total_tweets: 10000\n",
      "total_edges: 5614\n",
      "total_nodes: 10826\n",
      "isolated_nodes: 0\n",
      "weakly_connected_components: 5212\n",
      "root_tweets: 5212\n",
      "max_conversation_depth: 20\n",
      "avg_conversation_depth: 1.0506523407521104\n"
     ]
    }
   ],
   "source": [
    "\n",
    "\n",
    "\n",
    "# Create instance with debug mode\n",
    "extractor = ConversationExtractor(debug=True)\n",
    " \n",
    "# Process your data\n",
    "extractor.process_large_dataset(test_data_path)\n",
    "\n",
    "# Get statistics\n",
    "stats = extractor.get_graph_statistics()\n",
    "print(\"\\nGraph Statistics:\")\n",
    "for key, value in stats.items():\n",
    "    print(f\"{key}: {value}\")"
   ]
  },
  {
   "cell_type": "code",
   "execution_count": null,
   "metadata": {},
   "outputs": [],
   "source": []
  }
 ],
 "metadata": {
  "kernelspec": {
   "display_name": "research",
   "language": "python",
   "name": "python3"
  },
  "language_info": {
   "codemirror_mode": {
    "name": "ipython",
    "version": 3
   },
   "file_extension": ".py",
   "mimetype": "text/x-python",
   "name": "python",
   "nbconvert_exporter": "python",
   "pygments_lexer": "ipython3",
   "version": "3.10.15"
  }
 },
 "nbformat": 4,
 "nbformat_minor": 2
}
